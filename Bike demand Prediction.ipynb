{
 "cells": [
  {
   "cell_type": "markdown",
   "metadata": {},
   "source": [
    "# Bike Demand Prediction"
   ]
  },
  {
   "cell_type": "code",
   "execution_count": 1,
   "metadata": {},
   "outputs": [],
   "source": [
    "# importing requried library\n",
    "\n",
    "import pandas as pd\n",
    "import numpy as np\n",
    "import missingno as msno\n",
    "import matplotlib.pyplot as plt\n",
    "import seaborn as sn\n",
    "from scipy import stats\n",
    "from sklearn.linear_model import LinearRegression\n",
    "from sklearn.model_selection import train_test_split, RandomizedSearchCV\n",
    "from sklearn import metrics\n",
    "from sklearn.ensemble import RandomForestRegressor\n",
    "from sklearn.metrics import mean_squared_error\n",
    "import statsmodels.api as sm\n",
    "from math import sqrt\n",
    "import time\n",
    "import random\n",
    "import warnings\n",
    "warnings.filterwarnings(\"ignore\", category=DeprecationWarning)\n",
    "pd.options.mode.chained_assignment = None\n",
    "\n",
    "%matplotlib inline\n"
   ]
  },
  {
   "cell_type": "code",
   "execution_count": 2,
   "metadata": {},
   "outputs": [],
   "source": [
    "# Reading dataset\n",
    "raw_data = pd.read_csv(\"day.csv\")"
   ]
  },
  {
   "cell_type": "code",
   "execution_count": 3,
   "metadata": {},
   "outputs": [
    {
     "data": {
      "text/plain": [
       "count     731.000000\n",
       "mean     4504.348837\n",
       "std      1937.211452\n",
       "min        22.000000\n",
       "25%      3152.000000\n",
       "50%      4548.000000\n",
       "75%      5956.000000\n",
       "max      8714.000000\n",
       "Name: cnt, dtype: float64"
      ]
     },
     "execution_count": 3,
     "metadata": {},
     "output_type": "execute_result"
    }
   ],
   "source": [
    "raw_data.cnt.describe()"
   ]
  },
  {
   "cell_type": "code",
   "execution_count": 4,
   "metadata": {},
   "outputs": [
    {
     "data": {
      "text/html": [
       "<div>\n",
       "<style scoped>\n",
       "    .dataframe tbody tr th:only-of-type {\n",
       "        vertical-align: middle;\n",
       "    }\n",
       "\n",
       "    .dataframe tbody tr th {\n",
       "        vertical-align: top;\n",
       "    }\n",
       "\n",
       "    .dataframe thead th {\n",
       "        text-align: right;\n",
       "    }\n",
       "</style>\n",
       "<table border=\"1\" class=\"dataframe\">\n",
       "  <thead>\n",
       "    <tr style=\"text-align: right;\">\n",
       "      <th></th>\n",
       "      <th>instant</th>\n",
       "      <th>dteday</th>\n",
       "      <th>season</th>\n",
       "      <th>yr</th>\n",
       "      <th>mnth</th>\n",
       "      <th>holiday</th>\n",
       "      <th>weekday</th>\n",
       "      <th>workingday</th>\n",
       "      <th>weathersit</th>\n",
       "      <th>temp</th>\n",
       "      <th>atemp</th>\n",
       "      <th>hum</th>\n",
       "      <th>windspeed</th>\n",
       "      <th>casual</th>\n",
       "      <th>registered</th>\n",
       "      <th>cnt</th>\n",
       "    </tr>\n",
       "  </thead>\n",
       "  <tbody>\n",
       "    <tr>\n",
       "      <th>0</th>\n",
       "      <td>1</td>\n",
       "      <td>2011-01-01</td>\n",
       "      <td>1</td>\n",
       "      <td>0</td>\n",
       "      <td>1</td>\n",
       "      <td>0</td>\n",
       "      <td>6</td>\n",
       "      <td>0</td>\n",
       "      <td>2</td>\n",
       "      <td>0.344167</td>\n",
       "      <td>0.363625</td>\n",
       "      <td>0.805833</td>\n",
       "      <td>0.160446</td>\n",
       "      <td>331</td>\n",
       "      <td>654</td>\n",
       "      <td>985</td>\n",
       "    </tr>\n",
       "    <tr>\n",
       "      <th>1</th>\n",
       "      <td>2</td>\n",
       "      <td>2011-01-02</td>\n",
       "      <td>1</td>\n",
       "      <td>0</td>\n",
       "      <td>1</td>\n",
       "      <td>0</td>\n",
       "      <td>0</td>\n",
       "      <td>0</td>\n",
       "      <td>2</td>\n",
       "      <td>0.363478</td>\n",
       "      <td>0.353739</td>\n",
       "      <td>0.696087</td>\n",
       "      <td>0.248539</td>\n",
       "      <td>131</td>\n",
       "      <td>670</td>\n",
       "      <td>801</td>\n",
       "    </tr>\n",
       "    <tr>\n",
       "      <th>2</th>\n",
       "      <td>3</td>\n",
       "      <td>2011-01-03</td>\n",
       "      <td>1</td>\n",
       "      <td>0</td>\n",
       "      <td>1</td>\n",
       "      <td>0</td>\n",
       "      <td>1</td>\n",
       "      <td>1</td>\n",
       "      <td>1</td>\n",
       "      <td>0.196364</td>\n",
       "      <td>0.189405</td>\n",
       "      <td>0.437273</td>\n",
       "      <td>0.248309</td>\n",
       "      <td>120</td>\n",
       "      <td>1229</td>\n",
       "      <td>1349</td>\n",
       "    </tr>\n",
       "  </tbody>\n",
       "</table>\n",
       "</div>"
      ],
      "text/plain": [
       "   instant      dteday  season  yr  mnth  holiday  weekday  workingday  \\\n",
       "0        1  2011-01-01       1   0     1        0        6           0   \n",
       "1        2  2011-01-02       1   0     1        0        0           0   \n",
       "2        3  2011-01-03       1   0     1        0        1           1   \n",
       "\n",
       "   weathersit      temp     atemp       hum  windspeed  casual  registered  \\\n",
       "0           2  0.344167  0.363625  0.805833   0.160446     331         654   \n",
       "1           2  0.363478  0.353739  0.696087   0.248539     131         670   \n",
       "2           1  0.196364  0.189405  0.437273   0.248309     120        1229   \n",
       "\n",
       "    cnt  \n",
       "0   985  \n",
       "1   801  \n",
       "2  1349  "
      ]
     },
     "execution_count": 4,
     "metadata": {},
     "output_type": "execute_result"
    }
   ],
   "source": [
    "raw_data.head(3)"
   ]
  },
  {
   "cell_type": "code",
   "execution_count": 5,
   "metadata": {},
   "outputs": [
    {
     "data": {
      "text/plain": [
       "(731, 16)"
      ]
     },
     "execution_count": 5,
     "metadata": {},
     "output_type": "execute_result"
    }
   ],
   "source": [
    "raw_data.shape"
   ]
  },
  {
   "cell_type": "markdown",
   "metadata": {},
   "source": [
    "We have 731 observations, 15 predictors and 1 target variable. Cnt is our target variable. \n",
    "Next examining variable types"
   ]
  },
  {
   "cell_type": "code",
   "execution_count": 6,
   "metadata": {},
   "outputs": [
    {
     "data": {
      "text/plain": [
       "instant         int64\n",
       "dteday         object\n",
       "season          int64\n",
       "yr              int64\n",
       "mnth            int64\n",
       "holiday         int64\n",
       "weekday         int64\n",
       "workingday      int64\n",
       "weathersit      int64\n",
       "temp          float64\n",
       "atemp         float64\n",
       "hum           float64\n",
       "windspeed     float64\n",
       "casual          int64\n",
       "registered      int64\n",
       "cnt             int64\n",
       "dtype: object"
      ]
     },
     "execution_count": 6,
     "metadata": {},
     "output_type": "execute_result"
    }
   ],
   "source": [
    "raw_data.dtypes"
   ]
  },
  {
   "cell_type": "markdown",
   "metadata": {},
   "source": [
    "In the dataset season, yr, mnth, holiday, weekday, workingday, weathersit predictors should be categorical type, but they are int64. In the next step mapping and categorical transformatin will be performed."
   ]
  },
  {
   "cell_type": "code",
   "execution_count": 8,
   "metadata": {},
   "outputs": [],
   "source": [
    "#converting to categorical variable\n",
    "\n",
    "categorical_variable = [\"season\",\"yr\",\"mnth\",\"holiday\",\"weekday\",\"workingday\",\"weathersit\"]\n",
    "\n",
    "for var in categorical_variable:\n",
    "    raw_data[var] = raw_data[var].astype(\"category\")"
   ]
  },
  {
   "cell_type": "code",
   "execution_count": 9,
   "metadata": {},
   "outputs": [
    {
     "data": {
      "text/html": [
       "<div>\n",
       "<style scoped>\n",
       "    .dataframe tbody tr th:only-of-type {\n",
       "        vertical-align: middle;\n",
       "    }\n",
       "\n",
       "    .dataframe tbody tr th {\n",
       "        vertical-align: top;\n",
       "    }\n",
       "\n",
       "    .dataframe thead th {\n",
       "        text-align: right;\n",
       "    }\n",
       "</style>\n",
       "<table border=\"1\" class=\"dataframe\">\n",
       "  <thead>\n",
       "    <tr style=\"text-align: right;\">\n",
       "      <th></th>\n",
       "      <th>instant</th>\n",
       "      <th>dteday</th>\n",
       "      <th>season</th>\n",
       "      <th>yr</th>\n",
       "      <th>mnth</th>\n",
       "      <th>holiday</th>\n",
       "      <th>weekday</th>\n",
       "      <th>workingday</th>\n",
       "      <th>weathersit</th>\n",
       "      <th>temp</th>\n",
       "      <th>atemp</th>\n",
       "      <th>hum</th>\n",
       "      <th>windspeed</th>\n",
       "      <th>casual</th>\n",
       "      <th>registered</th>\n",
       "      <th>cnt</th>\n",
       "    </tr>\n",
       "  </thead>\n",
       "  <tbody>\n",
       "    <tr>\n",
       "      <th>0</th>\n",
       "      <td>1</td>\n",
       "      <td>2011-01-01</td>\n",
       "      <td>1</td>\n",
       "      <td>0</td>\n",
       "      <td>1</td>\n",
       "      <td>0</td>\n",
       "      <td>6</td>\n",
       "      <td>0</td>\n",
       "      <td>2</td>\n",
       "      <td>0.344167</td>\n",
       "      <td>0.363625</td>\n",
       "      <td>0.805833</td>\n",
       "      <td>0.160446</td>\n",
       "      <td>331</td>\n",
       "      <td>654</td>\n",
       "      <td>985</td>\n",
       "    </tr>\n",
       "    <tr>\n",
       "      <th>1</th>\n",
       "      <td>2</td>\n",
       "      <td>2011-01-02</td>\n",
       "      <td>1</td>\n",
       "      <td>0</td>\n",
       "      <td>1</td>\n",
       "      <td>0</td>\n",
       "      <td>0</td>\n",
       "      <td>0</td>\n",
       "      <td>2</td>\n",
       "      <td>0.363478</td>\n",
       "      <td>0.353739</td>\n",
       "      <td>0.696087</td>\n",
       "      <td>0.248539</td>\n",
       "      <td>131</td>\n",
       "      <td>670</td>\n",
       "      <td>801</td>\n",
       "    </tr>\n",
       "  </tbody>\n",
       "</table>\n",
       "</div>"
      ],
      "text/plain": [
       "   instant      dteday season yr mnth holiday weekday workingday weathersit  \\\n",
       "0        1  2011-01-01      1  0    1       0       6          0          2   \n",
       "1        2  2011-01-02      1  0    1       0       0          0          2   \n",
       "\n",
       "       temp     atemp       hum  windspeed  casual  registered  cnt  \n",
       "0  0.344167  0.363625  0.805833   0.160446     331         654  985  \n",
       "1  0.363478  0.353739  0.696087   0.248539     131         670  801  "
      ]
     },
     "execution_count": 9,
     "metadata": {},
     "output_type": "execute_result"
    }
   ],
   "source": [
    "raw_data.head(2)"
   ]
  },
  {
   "cell_type": "markdown",
   "metadata": {},
   "source": [
    "Droping variables which are not requried.\n",
    "1. instant - index number\n",
    "2. dteday- all the requried like month week day all ready present\n",
    "3. casual and resgistered - their sum is equal to cnt ie. to the target variable"
   ]
  },
  {
   "cell_type": "code",
   "execution_count": 10,
   "metadata": {
    "scrolled": true
   },
   "outputs": [],
   "source": [
    "raw_data = raw_data.drop([\"instant\",\"dteday\"],axis = 1)"
   ]
  },
  {
   "cell_type": "markdown",
   "metadata": {},
   "source": [
    "## Missing value Analysis"
   ]
  },
  {
   "cell_type": "code",
   "execution_count": 11,
   "metadata": {},
   "outputs": [
    {
     "data": {
      "image/png": "[encoded data removed]",
      "text/plain": [
       "<Figure size 1800x720 with 2 Axes>"
      ]
     },
     "metadata": {},
     "output_type": "display_data"
    }
   ],
   "source": [
    "# We will perform missing value andlysis using missingno package\n",
    "msno.matrix(raw_data)"
   ]
  },
  {
   "cell_type": "markdown",
   "metadata": {},
   "source": [
    "There are no missing values present in the dataset"
   ]
  },
  {
   "cell_type": "markdown",
   "metadata": {},
   "source": [
    "   ## Outliers Analysis"
   ]
  },
  {
   "cell_type": "code",
   "execution_count": 12,
   "metadata": {},
   "outputs": [
    {
     "data": {
      "text/plain": [
       "[Text(0,0.5,'cnt'),\n",
       " Text(0.5,0,'workingday'),\n",
       " Text(0.5,1,'Boxplot for cnt vs workingday')]"
      ]
     },
     "execution_count": 12,
     "metadata": {},
     "output_type": "execute_result"
    },
    {
     "data": {
      "image/png": "[encoded data removed]",
      "text/plain": [
       "<Figure size 720x864 with 4 Axes>"
      ]
     },
     "metadata": {},
     "output_type": "display_data"
    }
   ],
   "source": [
    "fig, axes = plt.subplots(nrows=2,ncols=2)\n",
    "fig.set_size_inches(10,12)\n",
    "sn.boxplot(data=raw_data,y=\"cnt\",orient='v',ax=axes[0][0])\n",
    "sn.boxplot(data=raw_data,y=\"cnt\",x=\"season\",orient='v',ax=axes[0][1])\n",
    "sn.boxplot(data=raw_data,y=\"cnt\",x=\"weekday\",orient=\"v\",ax=axes[1][0])\n",
    "sn.boxplot(data=raw_data,y=\"cnt\",x=\"workingday\",orient=\"v\",ax=axes[1][1])\n",
    "\n",
    "axes[0][0].set(ylabel='cnt',title = \"Boxplot of cnt\")\n",
    "axes[0][1].set(xlabel=\"season\",ylabel=\"cnt\",title=\"Boxplot for cnt vs season\")\n",
    "axes[1][0].set(xlabel=\"weekday\", ylabel=\"cnt\",title=\"Boxplot for cnt vs weekday\")\n",
    "axes[1][1].set(xlabel=\"workingday\",ylabel=\"cnt\",title=\"Boxplot for cnt vs workingday\")\n"
   ]
  },
  {
   "cell_type": "code",
   "execution_count": 13,
   "metadata": {},
   "outputs": [
    {
     "data": {
      "text/plain": [
       "Text(0.5,1,'Boxplot of cnt vs weathersit')"
      ]
     },
     "execution_count": 13,
     "metadata": {},
     "output_type": "execute_result"
    },
    {
     "data": {
      "image/png": "[encoded data removed]",
      "text/plain": [
       "<Figure size 432x288 with 1 Axes>"
      ]
     },
     "metadata": {},
     "output_type": "display_data"
    }
   ],
   "source": [
    "fig.set_size_inches(8,12)\n",
    "sn.boxplot(data=raw_data, x=\"weathersit\",y=\"cnt\").set_title(\"Boxplot of cnt vs weathersit\")"
   ]
  },
  {
   "cell_type": "markdown",
   "metadata": {},
   "source": [
    "From the above boxplots, it is evident that there are no outliers present in the cnt. Two things are clear.\n",
    "1. Cnt is very low in spring season.\n",
    "2. Cnt is maximum when weather is good and its minimum weather is bab."
   ]
  },
  {
   "cell_type": "markdown",
   "metadata": {},
   "source": [
    "## Correlation Analysis"
   ]
  },
  {
   "cell_type": "code",
   "execution_count": 14,
   "metadata": {},
   "outputs": [
    {
     "data": {
      "text/html": [
       "<style  type=\"text/css\" >\n",
       "    #T_35e2d980_96f6_11e8_a956_10bf480b811d th {\n",
       "          font-size: 7pt;\n",
       "    }    #T_35e2d980_96f6_11e8_a956_10bf480b811d td {\n",
       "          padding: 0em 0em;\n",
       "    }    #T_35e2d980_96f6_11e8_a956_10bf480b811d th:hover {\n",
       "          font-size: 12pt;\n",
       "    }    #T_35e2d980_96f6_11e8_a956_10bf480b811d tr:hover td:hover {\n",
       "          max-width: 200px;\n",
       "          font-size: 12pt;\n",
       "    }    #T_35e2d980_96f6_11e8_a956_10bf480b811drow0_col0 {\n",
       "            background-color:  #4479bb;\n",
       "            max-width:  90px;\n",
       "            font-size:  15pt;\n",
       "        }    #T_35e2d980_96f6_11e8_a956_10bf480b811drow0_col1 {\n",
       "            background-color:  #457abb;\n",
       "            max-width:  90px;\n",
       "            font-size:  15pt;\n",
       "        }    #T_35e2d980_96f6_11e8_a956_10bf480b811drow0_col2 {\n",
       "            background-color:  #e69b94;\n",
       "            max-width:  90px;\n",
       "            font-size:  15pt;\n",
       "        }    #T_35e2d980_96f6_11e8_a956_10bf480b811drow0_col3 {\n",
       "            background-color:  #d1483a;\n",
       "            max-width:  90px;\n",
       "            font-size:  15pt;\n",
       "        }    #T_35e2d980_96f6_11e8_a956_10bf480b811drow0_col4 {\n",
       "            background-color:  #cedced;\n",
       "            max-width:  90px;\n",
       "            font-size:  15pt;\n",
       "        }    #T_35e2d980_96f6_11e8_a956_10bf480b811drow0_col5 {\n",
       "            background-color:  #cfddee;\n",
       "            max-width:  90px;\n",
       "            font-size:  15pt;\n",
       "        }    #T_35e2d980_96f6_11e8_a956_10bf480b811drow0_col6 {\n",
       "            background-color:  #b5cae4;\n",
       "            max-width:  90px;\n",
       "            font-size:  15pt;\n",
       "        }    #T_35e2d980_96f6_11e8_a956_10bf480b811drow1_col0 {\n",
       "            background-color:  #457abb;\n",
       "            max-width:  90px;\n",
       "            font-size:  15pt;\n",
       "        }    #T_35e2d980_96f6_11e8_a956_10bf480b811drow1_col1 {\n",
       "            background-color:  #4479bb;\n",
       "            max-width:  90px;\n",
       "            font-size:  15pt;\n",
       "        }    #T_35e2d980_96f6_11e8_a956_10bf480b811drow1_col2 {\n",
       "            background-color:  #e8a49e;\n",
       "            max-width:  90px;\n",
       "            font-size:  15pt;\n",
       "        }    #T_35e2d980_96f6_11e8_a956_10bf480b811drow1_col3 {\n",
       "            background-color:  #d1483a;\n",
       "            max-width:  90px;\n",
       "            font-size:  15pt;\n",
       "        }    #T_35e2d980_96f6_11e8_a956_10bf480b811drow1_col4 {\n",
       "            background-color:  #cbdaec;\n",
       "            max-width:  90px;\n",
       "            font-size:  15pt;\n",
       "        }    #T_35e2d980_96f6_11e8_a956_10bf480b811drow1_col5 {\n",
       "            background-color:  #cbdaec;\n",
       "            max-width:  90px;\n",
       "            font-size:  15pt;\n",
       "        }    #T_35e2d980_96f6_11e8_a956_10bf480b811drow1_col6 {\n",
       "            background-color:  #b1c7e2;\n",
       "            max-width:  90px;\n",
       "            font-size:  15pt;\n",
       "        }    #T_35e2d980_96f6_11e8_a956_10bf480b811drow2_col0 {\n",
       "            background-color:  #ebaea8;\n",
       "            max-width:  90px;\n",
       "            font-size:  15pt;\n",
       "        }    #T_35e2d980_96f6_11e8_a956_10bf480b811drow2_col1 {\n",
       "            background-color:  #ecb2ac;\n",
       "            max-width:  90px;\n",
       "            font-size:  15pt;\n",
       "        }    #T_35e2d980_96f6_11e8_a956_10bf480b811drow2_col2 {\n",
       "            background-color:  #4479bb;\n",
       "            max-width:  90px;\n",
       "            font-size:  15pt;\n",
       "        }    #T_35e2d980_96f6_11e8_a956_10bf480b811drow2_col3 {\n",
       "            background-color:  #d1483a;\n",
       "            max-width:  90px;\n",
       "            font-size:  15pt;\n",
       "        }    #T_35e2d980_96f6_11e8_a956_10bf480b811drow2_col4 {\n",
       "            background-color:  #dd776c;\n",
       "            max-width:  90px;\n",
       "            font-size:  15pt;\n",
       "        }    #T_35e2d980_96f6_11e8_a956_10bf480b811drow2_col5 {\n",
       "            background-color:  #dc7368;\n",
       "            max-width:  90px;\n",
       "            font-size:  15pt;\n",
       "        }    #T_35e2d980_96f6_11e8_a956_10bf480b811drow2_col6 {\n",
       "            background-color:  #db7065;\n",
       "            max-width:  90px;\n",
       "            font-size:  15pt;\n",
       "        }    #T_35e2d980_96f6_11e8_a956_10bf480b811drow3_col0 {\n",
       "            background-color:  #d75f53;\n",
       "            max-width:  90px;\n",
       "            font-size:  15pt;\n",
       "        }    #T_35e2d980_96f6_11e8_a956_10bf480b811drow3_col1 {\n",
       "            background-color:  #d5594d;\n",
       "            max-width:  90px;\n",
       "            font-size:  15pt;\n",
       "        }    #T_35e2d980_96f6_11e8_a956_10bf480b811drow3_col2 {\n",
       "            background-color:  #d1483a;\n",
       "            max-width:  90px;\n",
       "            font-size:  15pt;\n",
       "        }    #T_35e2d980_96f6_11e8_a956_10bf480b811drow3_col3 {\n",
       "            background-color:  #4479bb;\n",
       "            max-width:  90px;\n",
       "            font-size:  15pt;\n",
       "        }    #T_35e2d980_96f6_11e8_a956_10bf480b811drow3_col4 {\n",
       "            background-color:  #d65d51;\n",
       "            max-width:  90px;\n",
       "            font-size:  15pt;\n",
       "        }    #T_35e2d980_96f6_11e8_a956_10bf480b811drow3_col5 {\n",
       "            background-color:  #d34f42;\n",
       "            max-width:  90px;\n",
       "            font-size:  15pt;\n",
       "        }    #T_35e2d980_96f6_11e8_a956_10bf480b811drow3_col6 {\n",
       "            background-color:  #d14a3d;\n",
       "            max-width:  90px;\n",
       "            font-size:  15pt;\n",
       "        }    #T_35e2d980_96f6_11e8_a956_10bf480b811drow4_col0 {\n",
       "            background-color:  #cedced;\n",
       "            max-width:  90px;\n",
       "            font-size:  15pt;\n",
       "        }    #T_35e2d980_96f6_11e8_a956_10bf480b811drow4_col1 {\n",
       "            background-color:  #cedced;\n",
       "            max-width:  90px;\n",
       "            font-size:  15pt;\n",
       "        }    #T_35e2d980_96f6_11e8_a956_10bf480b811drow4_col2 {\n",
       "            background-color:  #d76155;\n",
       "            max-width:  90px;\n",
       "            font-size:  15pt;\n",
       "        }    #T_35e2d980_96f6_11e8_a956_10bf480b811drow4_col3 {\n",
       "            background-color:  #d1483a;\n",
       "            max-width:  90px;\n",
       "            font-size:  15pt;\n",
       "        }    #T_35e2d980_96f6_11e8_a956_10bf480b811drow4_col4 {\n",
       "            background-color:  #4479bb;\n",
       "            max-width:  90px;\n",
       "            font-size:  15pt;\n",
       "        }    #T_35e2d980_96f6_11e8_a956_10bf480b811drow4_col5 {\n",
       "            background-color:  #f2f2f2;\n",
       "            max-width:  90px;\n",
       "            font-size:  15pt;\n",
       "        }    #T_35e2d980_96f6_11e8_a956_10bf480b811drow4_col6 {\n",
       "            background-color:  #a6bfde;\n",
       "            max-width:  90px;\n",
       "            font-size:  15pt;\n",
       "        }    #T_35e2d980_96f6_11e8_a956_10bf480b811drow5_col0 {\n",
       "            background-color:  #c9d8eb;\n",
       "            max-width:  90px;\n",
       "            font-size:  15pt;\n",
       "        }    #T_35e2d980_96f6_11e8_a956_10bf480b811drow5_col1 {\n",
       "            background-color:  #c7d7eb;\n",
       "            max-width:  90px;\n",
       "            font-size:  15pt;\n",
       "        }    #T_35e2d980_96f6_11e8_a956_10bf480b811drow5_col2 {\n",
       "            background-color:  #da6a5f;\n",
       "            max-width:  90px;\n",
       "            font-size:  15pt;\n",
       "        }    #T_35e2d980_96f6_11e8_a956_10bf480b811drow5_col3 {\n",
       "            background-color:  #d1483a;\n",
       "            max-width:  90px;\n",
       "            font-size:  15pt;\n",
       "        }    #T_35e2d980_96f6_11e8_a956_10bf480b811drow5_col4 {\n",
       "            background-color:  #f2f2f2;\n",
       "            max-width:  90px;\n",
       "            font-size:  15pt;\n",
       "        }    #T_35e2d980_96f6_11e8_a956_10bf480b811drow5_col5 {\n",
       "            background-color:  #4479bb;\n",
       "            max-width:  90px;\n",
       "            font-size:  15pt;\n",
       "        }    #T_35e2d980_96f6_11e8_a956_10bf480b811drow5_col6 {\n",
       "            background-color:  #5384c0;\n",
       "            max-width:  90px;\n",
       "            font-size:  15pt;\n",
       "        }    #T_35e2d980_96f6_11e8_a956_10bf480b811drow6_col0 {\n",
       "            background-color:  #aec5e1;\n",
       "            max-width:  90px;\n",
       "            font-size:  15pt;\n",
       "        }    #T_35e2d980_96f6_11e8_a956_10bf480b811drow6_col1 {\n",
       "            background-color:  #adc4e1;\n",
       "            max-width:  90px;\n",
       "            font-size:  15pt;\n",
       "        }    #T_35e2d980_96f6_11e8_a956_10bf480b811drow6_col2 {\n",
       "            background-color:  #da6c61;\n",
       "            max-width:  90px;\n",
       "            font-size:  15pt;\n",
       "        }    #T_35e2d980_96f6_11e8_a956_10bf480b811drow6_col3 {\n",
       "            background-color:  #d1483a;\n",
       "            max-width:  90px;\n",
       "            font-size:  15pt;\n",
       "        }    #T_35e2d980_96f6_11e8_a956_10bf480b811drow6_col4 {\n",
       "            background-color:  #a0bbdc;\n",
       "            max-width:  90px;\n",
       "            font-size:  15pt;\n",
       "        }    #T_35e2d980_96f6_11e8_a956_10bf480b811drow6_col5 {\n",
       "            background-color:  #5384c0;\n",
       "            max-width:  90px;\n",
       "            font-size:  15pt;\n",
       "        }    #T_35e2d980_96f6_11e8_a956_10bf480b811drow6_col6 {\n",
       "            background-color:  #4479bb;\n",
       "            max-width:  90px;\n",
       "            font-size:  15pt;\n",
       "        }</style>  \n",
       "<table id=\"T_35e2d980_96f6_11e8_a956_10bf480b811d\" ><caption>Correlation matrix</caption> \n",
       "<thead>    <tr> \n",
       "        <th class=\"blank level0\" ></th> \n",
       "        <th class=\"col_heading level0 col0\" >temp</th> \n",
       "        <th class=\"col_heading level0 col1\" >atemp</th> \n",
       "        <th class=\"col_heading level0 col2\" >hum</th> \n",
       "        <th class=\"col_heading level0 col3\" >windspeed</th> \n",
       "        <th class=\"col_heading level0 col4\" >casual</th> \n",
       "        <th class=\"col_heading level0 col5\" >registered</th> \n",
       "        <th class=\"col_heading level0 col6\" >cnt</th> \n",
       "    </tr></thead> \n",
       "<tbody>    <tr> \n",
       "        <th id=\"T_35e2d980_96f6_11e8_a956_10bf480b811dlevel0_row0\" class=\"row_heading level0 row0\" >temp</th> \n",
       "        <td id=\"T_35e2d980_96f6_11e8_a956_10bf480b811drow0_col0\" class=\"data row0 col0\" >1</td> \n",
       "        <td id=\"T_35e2d980_96f6_11e8_a956_10bf480b811drow0_col1\" class=\"data row0 col1\" >0.99</td> \n",
       "        <td id=\"T_35e2d980_96f6_11e8_a956_10bf480b811drow0_col2\" class=\"data row0 col2\" >0.13</td> \n",
       "        <td id=\"T_35e2d980_96f6_11e8_a956_10bf480b811drow0_col3\" class=\"data row0 col3\" >-0.16</td> \n",
       "        <td id=\"T_35e2d980_96f6_11e8_a956_10bf480b811drow0_col4\" class=\"data row0 col4\" >0.54</td> \n",
       "        <td id=\"T_35e2d980_96f6_11e8_a956_10bf480b811drow0_col5\" class=\"data row0 col5\" >0.54</td> \n",
       "        <td id=\"T_35e2d980_96f6_11e8_a956_10bf480b811drow0_col6\" class=\"data row0 col6\" >0.63</td> \n",
       "    </tr>    <tr> \n",
       "        <th id=\"T_35e2d980_96f6_11e8_a956_10bf480b811dlevel0_row1\" class=\"row_heading level0 row1\" >atemp</th> \n",
       "        <td id=\"T_35e2d980_96f6_11e8_a956_10bf480b811drow1_col0\" class=\"data row1 col0\" >0.99</td> \n",
       "        <td id=\"T_35e2d980_96f6_11e8_a956_10bf480b811drow1_col1\" class=\"data row1 col1\" >1</td> \n",
       "        <td id=\"T_35e2d980_96f6_11e8_a956_10bf480b811drow1_col2\" class=\"data row1 col2\" >0.14</td> \n",
       "        <td id=\"T_35e2d980_96f6_11e8_a956_10bf480b811drow1_col3\" class=\"data row1 col3\" >-0.18</td> \n",
       "        <td id=\"T_35e2d980_96f6_11e8_a956_10bf480b811drow1_col4\" class=\"data row1 col4\" >0.54</td> \n",
       "        <td id=\"T_35e2d980_96f6_11e8_a956_10bf480b811drow1_col5\" class=\"data row1 col5\" >0.54</td> \n",
       "        <td id=\"T_35e2d980_96f6_11e8_a956_10bf480b811drow1_col6\" class=\"data row1 col6\" >0.63</td> \n",
       "    </tr>    <tr> \n",
       "        <th id=\"T_35e2d980_96f6_11e8_a956_10bf480b811dlevel0_row2\" class=\"row_heading level0 row2\" >hum</th> \n",
       "        <td id=\"T_35e2d980_96f6_11e8_a956_10bf480b811drow2_col0\" class=\"data row2 col0\" >0.13</td> \n",
       "        <td id=\"T_35e2d980_96f6_11e8_a956_10bf480b811drow2_col1\" class=\"data row2 col1\" >0.14</td> \n",
       "        <td id=\"T_35e2d980_96f6_11e8_a956_10bf480b811drow2_col2\" class=\"data row2 col2\" >1</td> \n",
       "        <td id=\"T_35e2d980_96f6_11e8_a956_10bf480b811drow2_col3\" class=\"data row2 col3\" >-0.25</td> \n",
       "        <td id=\"T_35e2d980_96f6_11e8_a956_10bf480b811drow2_col4\" class=\"data row2 col4\" >-0.077</td> \n",
       "        <td id=\"T_35e2d980_96f6_11e8_a956_10bf480b811drow2_col5\" class=\"data row2 col5\" >-0.091</td> \n",
       "        <td id=\"T_35e2d980_96f6_11e8_a956_10bf480b811drow2_col6\" class=\"data row2 col6\" >-0.1</td> \n",
       "    </tr>    <tr> \n",
       "        <th id=\"T_35e2d980_96f6_11e8_a956_10bf480b811dlevel0_row3\" class=\"row_heading level0 row3\" >windspeed</th> \n",
       "        <td id=\"T_35e2d980_96f6_11e8_a956_10bf480b811drow3_col0\" class=\"data row3 col0\" >-0.16</td> \n",
       "        <td id=\"T_35e2d980_96f6_11e8_a956_10bf480b811drow3_col1\" class=\"data row3 col1\" >-0.18</td> \n",
       "        <td id=\"T_35e2d980_96f6_11e8_a956_10bf480b811drow3_col2\" class=\"data row3 col2\" >-0.25</td> \n",
       "        <td id=\"T_35e2d980_96f6_11e8_a956_10bf480b811drow3_col3\" class=\"data row3 col3\" >1</td> \n",
       "        <td id=\"T_35e2d980_96f6_11e8_a956_10bf480b811drow3_col4\" class=\"data row3 col4\" >-0.17</td> \n",
       "        <td id=\"T_35e2d980_96f6_11e8_a956_10bf480b811drow3_col5\" class=\"data row3 col5\" >-0.22</td> \n",
       "        <td id=\"T_35e2d980_96f6_11e8_a956_10bf480b811drow3_col6\" class=\"data row3 col6\" >-0.23</td> \n",
       "    </tr>    <tr> \n",
       "        <th id=\"T_35e2d980_96f6_11e8_a956_10bf480b811dlevel0_row4\" class=\"row_heading level0 row4\" >casual</th> \n",
       "        <td id=\"T_35e2d980_96f6_11e8_a956_10bf480b811drow4_col0\" class=\"data row4 col0\" >0.54</td> \n",
       "        <td id=\"T_35e2d980_96f6_11e8_a956_10bf480b811drow4_col1\" class=\"data row4 col1\" >0.54</td> \n",
       "        <td id=\"T_35e2d980_96f6_11e8_a956_10bf480b811drow4_col2\" class=\"data row4 col2\" >-0.077</td> \n",
       "        <td id=\"T_35e2d980_96f6_11e8_a956_10bf480b811drow4_col3\" class=\"data row4 col3\" >-0.17</td> \n",
       "        <td id=\"T_35e2d980_96f6_11e8_a956_10bf480b811drow4_col4\" class=\"data row4 col4\" >1</td> \n",
       "        <td id=\"T_35e2d980_96f6_11e8_a956_10bf480b811drow4_col5\" class=\"data row4 col5\" >0.4</td> \n",
       "        <td id=\"T_35e2d980_96f6_11e8_a956_10bf480b811drow4_col6\" class=\"data row4 col6\" >0.67</td> \n",
       "    </tr>    <tr> \n",
       "        <th id=\"T_35e2d980_96f6_11e8_a956_10bf480b811dlevel0_row5\" class=\"row_heading level0 row5\" >registered</th> \n",
       "        <td id=\"T_35e2d980_96f6_11e8_a956_10bf480b811drow5_col0\" class=\"data row5 col0\" >0.54</td> \n",
       "        <td id=\"T_35e2d980_96f6_11e8_a956_10bf480b811drow5_col1\" class=\"data row5 col1\" >0.54</td> \n",
       "        <td id=\"T_35e2d980_96f6_11e8_a956_10bf480b811drow5_col2\" class=\"data row5 col2\" >-0.091</td> \n",
       "        <td id=\"T_35e2d980_96f6_11e8_a956_10bf480b811drow5_col3\" class=\"data row5 col3\" >-0.22</td> \n",
       "        <td id=\"T_35e2d980_96f6_11e8_a956_10bf480b811drow5_col4\" class=\"data row5 col4\" >0.4</td> \n",
       "        <td id=\"T_35e2d980_96f6_11e8_a956_10bf480b811drow5_col5\" class=\"data row5 col5\" >1</td> \n",
       "        <td id=\"T_35e2d980_96f6_11e8_a956_10bf480b811drow5_col6\" class=\"data row5 col6\" >0.95</td> \n",
       "    </tr>    <tr> \n",
       "        <th id=\"T_35e2d980_96f6_11e8_a956_10bf480b811dlevel0_row6\" class=\"row_heading level0 row6\" >cnt</th> \n",
       "        <td id=\"T_35e2d980_96f6_11e8_a956_10bf480b811drow6_col0\" class=\"data row6 col0\" >0.63</td> \n",
       "        <td id=\"T_35e2d980_96f6_11e8_a956_10bf480b811drow6_col1\" class=\"data row6 col1\" >0.63</td> \n",
       "        <td id=\"T_35e2d980_96f6_11e8_a956_10bf480b811drow6_col2\" class=\"data row6 col2\" >-0.1</td> \n",
       "        <td id=\"T_35e2d980_96f6_11e8_a956_10bf480b811drow6_col3\" class=\"data row6 col3\" >-0.23</td> \n",
       "        <td id=\"T_35e2d980_96f6_11e8_a956_10bf480b811drow6_col4\" class=\"data row6 col4\" >0.67</td> \n",
       "        <td id=\"T_35e2d980_96f6_11e8_a956_10bf480b811drow6_col5\" class=\"data row6 col5\" >0.95</td> \n",
       "        <td id=\"T_35e2d980_96f6_11e8_a956_10bf480b811drow6_col6\" class=\"data row6 col6\" >1</td> \n",
       "    </tr></tbody> \n",
       "</table> "
      ],
      "text/plain": [
       "<pandas.io.formats.style.Styler at 0x1f63d96f438>"
      ]
     },
     "execution_count": 14,
     "metadata": {},
     "output_type": "execute_result"
    }
   ],
   "source": [
    "churn_corr = raw_data.corr()\n",
    "cmap = cmap=sn.diverging_palette(15, 250, as_cmap=True)\n",
    "\n",
    "def magnify():\n",
    "    return [dict(selector=\"th\",\n",
    "                 props=[(\"font-size\", \"7pt\")]),\n",
    "            dict(selector=\"td\",\n",
    "                 props=[('padding', \"0em 0em\")]),\n",
    "            dict(selector=\"th:hover\",\n",
    "                 props=[(\"font-size\", \"12pt\")]),\n",
    "            dict(selector=\"tr:hover td:hover\",\n",
    "                 props=[('max-width', '200px'),\n",
    "                        ('font-size', '12pt')])\n",
    "]\n",
    "\n",
    "churn_corr.style.background_gradient(cmap, axis=1)\\\n",
    "    .set_properties(**{'max-width': '90px', 'font-size': '15pt'})\\\n",
    "    .set_caption(\"Correlation matrix\")\\\n",
    "    .set_precision(2)\\\n",
    "    .set_table_styles(magnify())"
   ]
  },
  {
   "cell_type": "markdown",
   "metadata": {},
   "source": [
    "Finding of correlation analysis - \n",
    "1. temp and atemp are highly correlated.\n",
    "2. temp and atemp have positive and strong coorelation with cnt.\n",
    "3. hum and windspeed have negative and weak correlation with cnt.\n"
   ]
  },
  {
   "cell_type": "markdown",
   "metadata": {},
   "source": [
    "## Bivariate analysis"
   ]
  },
  {
   "cell_type": "code",
   "execution_count": 15,
   "metadata": {},
   "outputs": [
    {
     "data": {
      "text/plain": [
       "<matplotlib.axes._subplots.AxesSubplot at 0x1f64070ec88>"
      ]
     },
     "execution_count": 15,
     "metadata": {},
     "output_type": "execute_result"
    },
    {
     "data": {
      "image/png": "[encoded data removed]",
      "text/plain": [
       "<Figure size 864x432 with 4 Axes>"
      ]
     },
     "metadata": {},
     "output_type": "display_data"
    }
   ],
   "source": [
    "# Bivariate analysis of cnt and continous predictor\n",
    "\n",
    "fig,(ax1,ax2,ax3,ax4) = plt.subplots(ncols=4)\n",
    "fig.set_size_inches(12,6)\n",
    "\n",
    "sn.regplot(x=\"temp\",y=\"cnt\",data=raw_data,ax=ax1)\n",
    "sn.regplot(x=\"atemp\",y=\"cnt\",data=raw_data,ax=ax2)\n",
    "sn.regplot(x=\"hum\",y=\"cnt\",data=raw_data,ax=ax3)\n",
    "sn.regplot(x=\"windspeed\",y=\"cnt\",data=raw_data,ax=ax4)"
   ]
  },
  {
   "cell_type": "markdown",
   "metadata": {},
   "source": [
    "From the above plot, it is evident that cnt has a positive linear relationship with temp and atemp.\n",
    "On the other hand, cnt has a negative linear relationship with windspeed.\n",
    "Humidity(hum) has a little negative linear relationship with cnt."
   ]
  },
  {
   "cell_type": "markdown",
   "metadata": {},
   "source": [
    "## Distribution of target Variable"
   ]
  },
  {
   "cell_type": "code",
   "execution_count": 16,
   "metadata": {},
   "outputs": [
    {
     "name": "stderr",
     "output_type": "stream",
     "text": [
      "C:\\Users\\Rohit\\AppData\\Local\\conda\\conda\\envs\\ggpy36\\lib\\site-packages\\matplotlib\\axes\\_axes.py:6462: UserWarning: The 'normed' kwarg is deprecated, and has been replaced by the 'density' kwarg.\n",
      "  warnings.warn(\"The 'normed' kwarg is deprecated, and has been \"\n"
     ]
    },
    {
     "data": {
      "text/plain": [
       "((array([-3.10612952, -2.83371839, -2.68121219, -2.57340905, -2.48915191,\n",
       "         -2.41955673, -2.36001798, -2.30782877, -2.26125818, -2.21912992,\n",
       "         -2.18060696, -2.14507173, -2.11205508, -2.08119197, -2.05219258,\n",
       "         -2.0248228 , -1.99889075, -1.97423711, -1.95072808, -1.92825019,\n",
       "         -1.90670633, -1.88601273, -1.8660966 , -1.84689427, -1.82834975,\n",
       "         -1.81041348, -1.79304141, -1.77619419, -1.75983653, -1.74393663,\n",
       "         -1.72846577, -1.71339788, -1.69870925, -1.68437825, -1.67038506,\n",
       "         -1.6567115 , -1.64334086, -1.63025771, -1.6174478 , -1.60489794,\n",
       "         -1.59259587, -1.58053022, -1.56869036, -1.55706641, -1.54564912,\n",
       "         -1.53442983, -1.52340042, -1.51255328, -1.50188124, -1.49137757,\n",
       "         -1.4810359 , -1.47085025, -1.46081495, -1.45092464, -1.44117426,\n",
       "         -1.431559  , -1.4220743 , -1.41271583, -1.40347947, -1.39436132,\n",
       "         -1.38535765, -1.3764649 , -1.36767969, -1.35899879, -1.35041911,\n",
       "         -1.3419377 , -1.33355173, -1.32525852, -1.31705546, -1.30894008,\n",
       "         -1.30091001, -1.29296295, -1.28509673, -1.27730922, -1.26959842,\n",
       "         -1.26196238, -1.25439922, -1.24690714, -1.2394844 , -1.23212934,\n",
       "         -1.22484033, -1.21761582, -1.21045431, -1.20335435, -1.19631454,\n",
       "         -1.18933352, -1.18240998, -1.17554267, -1.16873035, -1.16197185,\n",
       "         -1.155266  , -1.14861171, -1.14200789, -1.13545351, -1.12894754,\n",
       "         -1.12248901, -1.11607697, -1.10971049, -1.10338867, -1.09711064,\n",
       "         -1.09087556, -1.08468261, -1.07853098, -1.07241989, -1.06634859,\n",
       "         -1.06031635, -1.05432244, -1.04836618, -1.04244688, -1.03656388,\n",
       "         -1.03071654, -1.02490423, -1.01912634, -1.01338227, -1.00767144,\n",
       "         -1.0019933 , -0.99634727, -0.99073283, -0.98514945, -0.9795966 ,\n",
       "         -0.97407381, -0.96858056, -0.96311639, -0.95768082, -0.9522734 ,\n",
       "         -0.94689368, -0.94154123, -0.93621562, -0.93091643, -0.92564325,\n",
       "         -0.92039569, -0.91517335, -0.90997585, -0.90480282, -0.89965388,\n",
       "         -0.89452869, -0.88942689, -0.88434814, -0.87929209, -0.87425842,\n",
       "         -0.86924681, -0.86425694, -0.85928849, -0.85434116, -0.84941466,\n",
       "         -0.84450869, -0.83962296, -0.83475719, -0.8299111 , -0.82508442,\n",
       "         -0.8202769 , -0.81548825, -0.81071823, -0.80596659, -0.80123308,\n",
       "         -0.79651745, -0.79181947, -0.78713889, -0.7824755 , -0.77782907,\n",
       "         -0.77319937, -0.76858618, -0.76398929, -0.75940848, -0.75484356,\n",
       "         -0.75029432, -0.74576055, -0.74124205, -0.73673864, -0.73225012,\n",
       "         -0.72777631, -0.72331702, -0.71887206, -0.71444126, -0.71002444,\n",
       "         -0.70562143, -0.70123206, -0.69685616, -0.69249356, -0.6881441 ,\n",
       "         -0.68380762, -0.67948396, -0.67517297, -0.67087448, -0.66658836,\n",
       "         -0.66231445, -0.6580526 , -0.65380267, -0.64956452, -0.64533801,\n",
       "         -0.64112299, -0.63691932, -0.63272689, -0.62854555, -0.62437516,\n",
       "         -0.62021561, -0.61606676, -0.61192849, -0.60780067, -0.60368318,\n",
       "         -0.59957591, -0.59547872, -0.5913915 , -0.58731414, -0.58324652,\n",
       "         -0.57918853, -0.57514005, -0.57110098, -0.5670712 , -0.56305061,\n",
       "         -0.5590391 , -0.55503657, -0.55104291, -0.54705802, -0.5430818 ,\n",
       "         -0.53911414, -0.53515496, -0.53120414, -0.5272616 , -0.52332724,\n",
       "         -0.51940096, -0.51548267, -0.51157228, -0.5076697 , -0.50377484,\n",
       "         -0.4998876 , -0.4960079 , -0.49213565, -0.48827077, -0.48441317,\n",
       "         -0.48056276, -0.47671946, -0.4728832 , -0.46905388, -0.46523142,\n",
       "         -0.46141575, -0.45760679, -0.45380445, -0.45000867, -0.44621936,\n",
       "         -0.44243644, -0.43865984, -0.43488949, -0.43112532, -0.42736724,\n",
       "         -0.42361519, -0.41986909, -0.41612887, -0.41239447, -0.40866581,\n",
       "         -0.40494282, -0.40122544, -0.39751359, -0.39380721, -0.39010623,\n",
       "         -0.38641059, -0.38272022, -0.37903506, -0.37535503, -0.37168008,\n",
       "         -0.36801015, -0.36434516, -0.36068506, -0.35702979, -0.35337928,\n",
       "         -0.34973347, -0.34609231, -0.34245573, -0.33882367, -0.33519607,\n",
       "         -0.33157289, -0.32795405, -0.3243395 , -0.32072918, -0.31712304,\n",
       "         -0.31352101, -0.30992305, -0.3063291 , -0.3027391 , -0.299153  ,\n",
       "         -0.29557074, -0.29199227, -0.28841753, -0.28484648, -0.28127906,\n",
       "         -0.27771521, -0.27415488, -0.27059803, -0.2670446 , -0.26349453,\n",
       "         -0.25994779, -0.25640431, -0.25286405, -0.24932695, -0.24579297,\n",
       "         -0.24226206, -0.23873416, -0.23520924, -0.23168723, -0.2281681 ,\n",
       "         -0.22465178, -0.22113825, -0.21762744, -0.21411931, -0.21061382,\n",
       "         -0.20711091, -0.20361054, -0.20011267, -0.19661724, -0.19312421,\n",
       "         -0.18963354, -0.18614518, -0.18265908, -0.17917519, -0.17569349,\n",
       "         -0.17221391, -0.16873641, -0.16526095, -0.16178749, -0.15831598,\n",
       "         -0.15484638, -0.15137863, -0.14791271, -0.14444857, -0.14098615,\n",
       "         -0.13752543, -0.13406635, -0.13060888, -0.12715297, -0.12369857,\n",
       "         -0.12024565, -0.11679416, -0.11334407, -0.10989532, -0.10644788,\n",
       "         -0.1030017 , -0.09955675, -0.09611298, -0.09267034, -0.08922881,\n",
       "         -0.08578833, -0.08234887, -0.07891038, -0.07547282, -0.07203616,\n",
       "         -0.06860034, -0.06516534, -0.0617311 , -0.05829759, -0.05486477,\n",
       "         -0.0514326 , -0.04800103, -0.04457003, -0.04113955, -0.03770955,\n",
       "         -0.03428   , -0.03085085, -0.02742207, -0.0239936 , -0.02056542,\n",
       "         -0.01713748, -0.01370974, -0.01028217, -0.00685471, -0.00342734,\n",
       "          0.        ,  0.00342734,  0.00685471,  0.01028217,  0.01370974,\n",
       "          0.01713748,  0.02056542,  0.0239936 ,  0.02742207,  0.03085085,\n",
       "          0.03428   ,  0.03770955,  0.04113955,  0.04457003,  0.04800103,\n",
       "          0.0514326 ,  0.05486477,  0.05829759,  0.0617311 ,  0.06516534,\n",
       "          0.06860034,  0.07203616,  0.07547282,  0.07891038,  0.08234887,\n",
       "          0.08578833,  0.08922881,  0.09267034,  0.09611298,  0.09955675,\n",
       "          0.1030017 ,  0.10644788,  0.10989532,  0.11334407,  0.11679416,\n",
       "          0.12024565,  0.12369857,  0.12715297,  0.13060888,  0.13406635,\n",
       "          0.13752543,  0.14098615,  0.14444857,  0.14791271,  0.15137863,\n",
       "          0.15484638,  0.15831598,  0.16178749,  0.16526095,  0.16873641,\n",
       "          0.17221391,  0.17569349,  0.17917519,  0.18265908,  0.18614518,\n",
       "          0.18963354,  0.19312421,  0.19661724,  0.20011267,  0.20361054,\n",
       "          0.20711091,  0.21061382,  0.21411931,  0.21762744,  0.22113825,\n",
       "          0.22465178,  0.2281681 ,  0.23168723,  0.23520924,  0.23873416,\n",
       "          0.24226206,  0.24579297,  0.24932695,  0.25286405,  0.25640431,\n",
       "          0.25994779,  0.26349453,  0.2670446 ,  0.27059803,  0.27415488,\n",
       "          0.27771521,  0.28127906,  0.28484648,  0.28841753,  0.29199227,\n",
       "          0.29557074,  0.299153  ,  0.3027391 ,  0.3063291 ,  0.30992305,\n",
       "          0.31352101,  0.31712304,  0.32072918,  0.3243395 ,  0.32795405,\n",
       "          0.33157289,  0.33519607,  0.33882367,  0.34245573,  0.34609231,\n",
       "          0.34973347,  0.35337928,  0.35702979,  0.36068506,  0.36434516,\n",
       "          0.36801015,  0.37168008,  0.37535503,  0.37903506,  0.38272022,\n",
       "          0.38641059,  0.39010623,  0.39380721,  0.39751359,  0.40122544,\n",
       "          0.40494282,  0.40866581,  0.41239447,  0.41612887,  0.41986909,\n",
       "          0.42361519,  0.42736724,  0.43112532,  0.43488949,  0.43865984,\n",
       "          0.44243644,  0.44621936,  0.45000867,  0.45380445,  0.45760679,\n",
       "          0.46141575,  0.46523142,  0.46905388,  0.4728832 ,  0.47671946,\n",
       "          0.48056276,  0.48441317,  0.48827077,  0.49213565,  0.4960079 ,\n",
       "          0.4998876 ,  0.50377484,  0.5076697 ,  0.51157228,  0.51548267,\n",
       "          0.51940096,  0.52332724,  0.5272616 ,  0.53120414,  0.53515496,\n",
       "          0.53911414,  0.5430818 ,  0.54705802,  0.55104291,  0.55503657,\n",
       "          0.5590391 ,  0.56305061,  0.5670712 ,  0.57110098,  0.57514005,\n",
       "          0.57918853,  0.58324652,  0.58731414,  0.5913915 ,  0.59547872,\n",
       "          0.59957591,  0.60368318,  0.60780067,  0.61192849,  0.61606676,\n",
       "          0.62021561,  0.62437516,  0.62854555,  0.63272689,  0.63691932,\n",
       "          0.64112299,  0.64533801,  0.64956452,  0.65380267,  0.6580526 ,\n",
       "          0.66231445,  0.66658836,  0.67087448,  0.67517297,  0.67948396,\n",
       "          0.68380762,  0.6881441 ,  0.69249356,  0.69685616,  0.70123206,\n",
       "          0.70562143,  0.71002444,  0.71444126,  0.71887206,  0.72331702,\n",
       "          0.72777631,  0.73225012,  0.73673864,  0.74124205,  0.74576055,\n",
       "          0.75029432,  0.75484356,  0.75940848,  0.76398929,  0.76858618,\n",
       "          0.77319937,  0.77782907,  0.7824755 ,  0.78713889,  0.79181947,\n",
       "          0.79651745,  0.80123308,  0.80596659,  0.81071823,  0.81548825,\n",
       "          0.8202769 ,  0.82508442,  0.8299111 ,  0.83475719,  0.83962296,\n",
       "          0.84450869,  0.84941466,  0.85434116,  0.85928849,  0.86425694,\n",
       "          0.86924681,  0.87425842,  0.87929209,  0.88434814,  0.88942689,\n",
       "          0.89452869,  0.89965388,  0.90480282,  0.90997585,  0.91517335,\n",
       "          0.92039569,  0.92564325,  0.93091643,  0.93621562,  0.94154123,\n",
       "          0.94689368,  0.9522734 ,  0.95768082,  0.96311639,  0.96858056,\n",
       "          0.97407381,  0.9795966 ,  0.98514945,  0.99073283,  0.99634727,\n",
       "          1.0019933 ,  1.00767144,  1.01338227,  1.01912634,  1.02490423,\n",
       "          1.03071654,  1.03656388,  1.04244688,  1.04836618,  1.05432244,\n",
       "          1.06031635,  1.06634859,  1.07241989,  1.07853098,  1.08468261,\n",
       "          1.09087556,  1.09711064,  1.10338867,  1.10971049,  1.11607697,\n",
       "          1.12248901,  1.12894754,  1.13545351,  1.14200789,  1.14861171,\n",
       "          1.155266  ,  1.16197185,  1.16873035,  1.17554267,  1.18240998,\n",
       "          1.18933352,  1.19631454,  1.20335435,  1.21045431,  1.21761582,\n",
       "          1.22484033,  1.23212934,  1.2394844 ,  1.24690714,  1.25439922,\n",
       "          1.26196238,  1.26959842,  1.27730922,  1.28509673,  1.29296295,\n",
       "          1.30091001,  1.30894008,  1.31705546,  1.32525852,  1.33355173,\n",
       "          1.3419377 ,  1.35041911,  1.35899879,  1.36767969,  1.3764649 ,\n",
       "          1.38535765,  1.39436132,  1.40347947,  1.41271583,  1.4220743 ,\n",
       "          1.431559  ,  1.44117426,  1.45092464,  1.46081495,  1.47085025,\n",
       "          1.4810359 ,  1.49137757,  1.50188124,  1.51255328,  1.52340042,\n",
       "          1.53442983,  1.54564912,  1.55706641,  1.56869036,  1.58053022,\n",
       "          1.59259587,  1.60489794,  1.6174478 ,  1.63025771,  1.64334086,\n",
       "          1.6567115 ,  1.67038506,  1.68437825,  1.69870925,  1.71339788,\n",
       "          1.72846577,  1.74393663,  1.75983653,  1.77619419,  1.79304141,\n",
       "          1.81041348,  1.82834975,  1.84689427,  1.8660966 ,  1.88601273,\n",
       "          1.90670633,  1.92825019,  1.95072808,  1.97423711,  1.99889075,\n",
       "          2.0248228 ,  2.05219258,  2.08119197,  2.11205508,  2.14507173,\n",
       "          2.18060696,  2.21912992,  2.26125818,  2.30782877,  2.36001798,\n",
       "          2.41955673,  2.48915191,  2.57340905,  2.68121219,  2.83371839,\n",
       "          3.10612952]),\n",
       "  array([  22,  431,  441,  506,  605,  623,  627,  683,  705,  754,  795,\n",
       "          801,  822,  920,  959,  981,  985,  986, 1000, 1005, 1011, 1013,\n",
       "         1027, 1096, 1096, 1098, 1107, 1115, 1162, 1162, 1167, 1204, 1248,\n",
       "         1263, 1301, 1317, 1321, 1341, 1349, 1360, 1406, 1416, 1421, 1446,\n",
       "         1450, 1461, 1471, 1472, 1495, 1501, 1510, 1526, 1529, 1530, 1536,\n",
       "         1538, 1543, 1550, 1562, 1589, 1600, 1605, 1606, 1607, 1623, 1635,\n",
       "         1650, 1683, 1685, 1685, 1693, 1708, 1712, 1746, 1749, 1787, 1795,\n",
       "         1796, 1807, 1812, 1815, 1817, 1834, 1842, 1851, 1865, 1872, 1891,\n",
       "         1913, 1917, 1927, 1944, 1951, 1969, 1977, 1977, 1985, 1996, 2028,\n",
       "         2034, 2046, 2056, 2077, 2077, 2114, 2115, 2121, 2132, 2133, 2134,\n",
       "         2162, 2169, 2177, 2192, 2209, 2210, 2227, 2236, 2252, 2277, 2294,\n",
       "         2298, 2302, 2311, 2368, 2376, 2395, 2402, 2416, 2417, 2423, 2424,\n",
       "         2424, 2425, 2425, 2429, 2431, 2432, 2455, 2471, 2475, 2485, 2493,\n",
       "         2496, 2566, 2594, 2633, 2659, 2660, 2689, 2703, 2710, 2729, 2732,\n",
       "         2739, 2743, 2744, 2765, 2792, 2802, 2808, 2832, 2843, 2895, 2913,\n",
       "         2914, 2918, 2927, 2933, 2935, 2947, 2999, 3005, 3053, 3068, 3068,\n",
       "         3071, 3095, 3115, 3117, 3126, 3129, 3141, 3163, 3190, 3194, 3204,\n",
       "         3214, 3214, 3228, 3239, 3243, 3249, 3267, 3272, 3285, 3292, 3310,\n",
       "         3322, 3331, 3333, 3348, 3351, 3351, 3368, 3372, 3376, 3387, 3389,\n",
       "         3392, 3403, 3409, 3422, 3423, 3425, 3429, 3456, 3485, 3487, 3510,\n",
       "         3520, 3523, 3542, 3544, 3570, 3574, 3577, 3598, 3606, 3613, 3614,\n",
       "         3620, 3623, 3624, 3641, 3644, 3649, 3659, 3663, 3669, 3709, 3717,\n",
       "         3727, 3740, 3744, 3747, 3750, 3761, 3767, 3777, 3784, 3784, 3785,\n",
       "         3786, 3805, 3811, 3820, 3830, 3831, 3840, 3846, 3855, 3867, 3872,\n",
       "         3873, 3894, 3907, 3910, 3915, 3922, 3926, 3940, 3944, 3956, 3958,\n",
       "         3959, 3974, 3974, 3982, 4010, 4023, 4035, 4036, 4040, 4046, 4058,\n",
       "         4066, 4067, 4068, 4073, 4073, 4075, 4086, 4094, 4097, 4098, 4098,\n",
       "         4105, 4109, 4118, 4120, 4123, 4127, 4128, 4150, 4151, 4153, 4154,\n",
       "         4169, 4182, 4186, 4187, 4189, 4191, 4195, 4195, 4205, 4220, 4258,\n",
       "         4266, 4270, 4274, 4274, 4294, 4302, 4304, 4308, 4318, 4322, 4326,\n",
       "         4332, 4333, 4334, 4338, 4339, 4342, 4352, 4359, 4362, 4363, 4367,\n",
       "         4375, 4378, 4381, 4390, 4400, 4401, 4401, 4433, 4451, 4456, 4458,\n",
       "         4459, 4459, 4460, 4475, 4484, 4486, 4492, 4507, 4509, 4511, 4521,\n",
       "         4539, 4541, 4548, 4549, 4553, 4563, 4569, 4570, 4575, 4576, 4579,\n",
       "         4585, 4586, 4590, 4592, 4595, 4602, 4608, 4629, 4630, 4634, 4639,\n",
       "         4648, 4649, 4649, 4656, 4660, 4661, 4665, 4669, 4672, 4677, 4679,\n",
       "         4687, 4694, 4708, 4713, 4714, 4717, 4725, 4727, 4744, 4748, 4758,\n",
       "         4758, 4760, 4763, 4765, 4773, 4780, 4785, 4788, 4790, 4792, 4795,\n",
       "         4803, 4826, 4833, 4835, 4839, 4840, 4844, 4845, 4862, 4864, 4866,\n",
       "         4881, 4891, 4905, 4906, 4911, 4916, 4917, 4940, 4966, 4968, 4972,\n",
       "         4978, 4985, 4990, 4991, 4996, 5008, 5010, 5020, 5026, 5035, 5041,\n",
       "         5046, 5047, 5058, 5062, 5084, 5087, 5099, 5102, 5107, 5115, 5115,\n",
       "         5117, 5119, 5119, 5130, 5138, 5146, 5169, 5170, 5180, 5191, 5191,\n",
       "         5202, 5202, 5204, 5217, 5225, 5255, 5259, 5260, 5260, 5267, 5298,\n",
       "         5302, 5305, 5312, 5312, 5315, 5319, 5323, 5336, 5342, 5345, 5362,\n",
       "         5375, 5382, 5409, 5409, 5423, 5424, 5445, 5459, 5463, 5464, 5478,\n",
       "         5495, 5499, 5501, 5511, 5515, 5531, 5532, 5538, 5557, 5558, 5566,\n",
       "         5572, 5582, 5585, 5611, 5629, 5633, 5634, 5668, 5686, 5687, 5698,\n",
       "         5698, 5713, 5728, 5729, 5740, 5743, 5786, 5805, 5810, 5823, 5847,\n",
       "         5847, 5870, 5875, 5892, 5895, 5905, 5918, 5923, 5936, 5976, 5986,\n",
       "         5992, 6031, 6034, 6041, 6043, 6043, 6053, 6073, 6093, 6118, 6133,\n",
       "         6140, 6153, 6169, 6192, 6196, 6203, 6207, 6211, 6227, 6230, 6233,\n",
       "         6234, 6235, 6241, 6269, 6273, 6290, 6296, 6299, 6304, 6312, 6359,\n",
       "         6370, 6392, 6398, 6421, 6436, 6457, 6460, 6530, 6536, 6536, 6544,\n",
       "         6565, 6569, 6572, 6591, 6591, 6597, 6598, 6606, 6624, 6639, 6660,\n",
       "         6664, 6685, 6691, 6734, 6770, 6772, 6778, 6779, 6784, 6786, 6824,\n",
       "         6824, 6825, 6830, 6852, 6855, 6857, 6861, 6864, 6869, 6871, 6879,\n",
       "         6883, 6883, 6889, 6891, 6904, 6917, 6966, 6969, 6978, 6998, 7001,\n",
       "         7006, 7013, 7030, 7040, 7055, 7058, 7105, 7109, 7112, 7129, 7132,\n",
       "         7148, 7175, 7216, 7261, 7264, 7273, 7282, 7286, 7290, 7328, 7333,\n",
       "         7335, 7338, 7347, 7350, 7359, 7363, 7375, 7384, 7393, 7403, 7410,\n",
       "         7415, 7421, 7424, 7429, 7436, 7442, 7444, 7446, 7458, 7460, 7461,\n",
       "         7466, 7494, 7498, 7499, 7504, 7509, 7525, 7534, 7534, 7538, 7570,\n",
       "         7572, 7580, 7582, 7591, 7592, 7605, 7639, 7641, 7665, 7691, 7693,\n",
       "         7697, 7702, 7713, 7720, 7733, 7736, 7765, 7767, 7804, 7836, 7852,\n",
       "         7865, 7870, 7907, 7965, 8009, 8090, 8120, 8156, 8167, 8173, 8227,\n",
       "         8294, 8362, 8395, 8555, 8714], dtype=int64)),\n",
       " (1925.1274361641945, 4504.3488372093025, 0.9908084868276722))"
      ]
     },
     "execution_count": 16,
     "metadata": {},
     "output_type": "execute_result"
    },
    {
     "data": {
      "image/png": "[encoded data removed]",
      "text/plain": [
       "<Figure size 648x360 with 2 Axes>"
      ]
     },
     "metadata": {},
     "output_type": "display_data"
    }
   ],
   "source": [
    "fig,(ax1,ax2) = plt.subplots(ncols=2)\n",
    "fig.set_size_inches(9,5)\n",
    "sn.distplot(raw_data[\"cnt\"],ax=ax1)\n",
    "stats.probplot(raw_data[\"cnt\"], dist='norm', fit=True, plot=ax2)"
   ]
  },
  {
   "cell_type": "markdown",
   "metadata": {},
   "source": [
    "As we can see, out cnt variable is very close to normal distribution."
   ]
  },
  {
   "cell_type": "markdown",
   "metadata": {},
   "source": [
    "Preprocessing original data and Spliting into train and test data"
   ]
  },
  {
   "cell_type": "code",
   "execution_count": 17,
   "metadata": {},
   "outputs": [],
   "source": [
    "# selecting predictors\n",
    "train_feature_space = raw_data.iloc[:,raw_data.columns != 'cnt']\n",
    "# selecting target class\n",
    "target_class = raw_data.iloc[:,raw_data.columns == 'cnt']"
   ]
  },
  {
   "cell_type": "code",
   "execution_count": 18,
   "metadata": {},
   "outputs": [],
   "source": [
    "#droping atemp due to multicollinearity\n",
    "#droping casual and registered because there sum is equal to target variable ie. 'cnt'\n",
    "\n",
    "train_feature_space = train_feature_space.drop([\"atemp\",\"casual\",\"registered\"],axis = 1)"
   ]
  },
  {
   "cell_type": "code",
   "execution_count": 19,
   "metadata": {},
   "outputs": [
    {
     "data": {
      "text/plain": [
       "(731, 10)"
      ]
     },
     "execution_count": 19,
     "metadata": {},
     "output_type": "execute_result"
    }
   ],
   "source": [
    "train_feature_space.shape"
   ]
  },
  {
   "cell_type": "code",
   "execution_count": 20,
   "metadata": {},
   "outputs": [],
   "source": [
    "# creating training and test set\n",
    "training_set, test_set, train_taget, test_target = train_test_split(train_feature_space,\n",
    "                                                                    target_class,\n",
    "                                                                    test_size = 0.30, \n",
    "                                                                    random_state = 456)\n",
    "\n",
    "# Cleaning test sets to avoid future warning messages\n",
    "train_taget = train_taget.values.ravel() \n",
    "test_target = test_target.values.ravel()\n"
   ]
  },
  {
   "cell_type": "code",
   "execution_count": null,
   "metadata": {},
   "outputs": [],
   "source": []
  },
  {
   "cell_type": "markdown",
   "metadata": {},
   "source": [
    "## Model1 Linear Regression Model\n"
   ]
  },
  {
   "cell_type": "code",
   "execution_count": 21,
   "metadata": {},
   "outputs": [],
   "source": [
    "X = training_set\n",
    "X = sm.add_constant(X) \n",
    "y= np.log(train_taget)\n",
    "\n",
    "model = sm.OLS(y, X.astype(float)).fit()"
   ]
  },
  {
   "cell_type": "code",
   "execution_count": 22,
   "metadata": {},
   "outputs": [
    {
     "data": {
      "text/html": [
       "<table class=\"simpletable\">\n",
       "<caption>OLS Regression Results</caption>\n",
       "<tr>\n",
       "  <th>Dep. Variable:</th>            <td>y</td>        <th>  R-squared:         </th> <td>   0.654</td> \n",
       "</tr>\n",
       "<tr>\n",
       "  <th>Model:</th>                   <td>OLS</td>       <th>  Adj. R-squared:    </th> <td>   0.647</td> \n",
       "</tr>\n",
       "<tr>\n",
       "  <th>Method:</th>             <td>Least Squares</td>  <th>  F-statistic:       </th> <td>   94.40</td> \n",
       "</tr>\n",
       "<tr>\n",
       "  <th>Date:</th>             <td>Fri, 03 Aug 2018</td> <th>  Prob (F-statistic):</th> <td>2.20e-108</td>\n",
       "</tr>\n",
       "<tr>\n",
       "  <th>Time:</th>                 <td>13:51:38</td>     <th>  Log-Likelihood:    </th> <td> -184.70</td> \n",
       "</tr>\n",
       "<tr>\n",
       "  <th>No. Observations:</th>      <td>   511</td>      <th>  AIC:               </th> <td>   391.4</td> \n",
       "</tr>\n",
       "<tr>\n",
       "  <th>Df Residuals:</th>          <td>   500</td>      <th>  BIC:               </th> <td>   438.0</td> \n",
       "</tr>\n",
       "<tr>\n",
       "  <th>Df Model:</th>              <td>    10</td>      <th>                     </th>     <td> </td>    \n",
       "</tr>\n",
       "<tr>\n",
       "  <th>Covariance Type:</th>      <td>nonrobust</td>    <th>                     </th>     <td> </td>    \n",
       "</tr>\n",
       "</table>\n",
       "<table class=\"simpletable\">\n",
       "<tr>\n",
       "       <td></td>         <th>coef</th>     <th>std err</th>      <th>t</th>      <th>P>|t|</th>  <th>[0.025</th>    <th>0.975]</th>  \n",
       "</tr>\n",
       "<tr>\n",
       "  <th>const</th>      <td>    7.6112</td> <td>    0.110</td> <td>   69.224</td> <td> 0.000</td> <td>    7.395</td> <td>    7.827</td>\n",
       "</tr>\n",
       "<tr>\n",
       "  <th>season</th>     <td>    0.1286</td> <td>    0.026</td> <td>    4.865</td> <td> 0.000</td> <td>    0.077</td> <td>    0.180</td>\n",
       "</tr>\n",
       "<tr>\n",
       "  <th>yr</th>         <td>    0.4818</td> <td>    0.031</td> <td>   15.339</td> <td> 0.000</td> <td>    0.420</td> <td>    0.543</td>\n",
       "</tr>\n",
       "<tr>\n",
       "  <th>mnth</th>       <td>   -0.0069</td> <td>    0.008</td> <td>   -0.834</td> <td> 0.405</td> <td>   -0.023</td> <td>    0.009</td>\n",
       "</tr>\n",
       "<tr>\n",
       "  <th>holiday</th>    <td>   -0.1800</td> <td>    0.099</td> <td>   -1.815</td> <td> 0.070</td> <td>   -0.375</td> <td>    0.015</td>\n",
       "</tr>\n",
       "<tr>\n",
       "  <th>weekday</th>    <td>    0.0133</td> <td>    0.008</td> <td>    1.670</td> <td> 0.095</td> <td>   -0.002</td> <td>    0.029</td>\n",
       "</tr>\n",
       "<tr>\n",
       "  <th>workingday</th> <td>    0.0577</td> <td>    0.035</td> <td>    1.655</td> <td> 0.099</td> <td>   -0.011</td> <td>    0.126</td>\n",
       "</tr>\n",
       "<tr>\n",
       "  <th>weathersit</th> <td>   -0.2331</td> <td>    0.037</td> <td>   -6.228</td> <td> 0.000</td> <td>   -0.307</td> <td>   -0.160</td>\n",
       "</tr>\n",
       "<tr>\n",
       "  <th>temp</th>       <td>    1.5244</td> <td>    0.094</td> <td>   16.269</td> <td> 0.000</td> <td>    1.340</td> <td>    1.708</td>\n",
       "</tr>\n",
       "<tr>\n",
       "  <th>hum</th>        <td>   -0.2495</td> <td>    0.149</td> <td>   -1.677</td> <td> 0.094</td> <td>   -0.542</td> <td>    0.043</td>\n",
       "</tr>\n",
       "<tr>\n",
       "  <th>windspeed</th>  <td>   -1.0399</td> <td>    0.218</td> <td>   -4.760</td> <td> 0.000</td> <td>   -1.469</td> <td>   -0.611</td>\n",
       "</tr>\n",
       "</table>\n",
       "<table class=\"simpletable\">\n",
       "<tr>\n",
       "  <th>Omnibus:</th>       <td>654.553</td> <th>  Durbin-Watson:     </th>  <td>   2.039</td> \n",
       "</tr>\n",
       "<tr>\n",
       "  <th>Prob(Omnibus):</th> <td> 0.000</td>  <th>  Jarque-Bera (JB):  </th> <td>128684.713</td>\n",
       "</tr>\n",
       "<tr>\n",
       "  <th>Skew:</th>          <td>-6.061</td>  <th>  Prob(JB):          </th>  <td>    0.00</td> \n",
       "</tr>\n",
       "<tr>\n",
       "  <th>Kurtosis:</th>      <td>79.792</td>  <th>  Cond. No.          </th>  <td>    131.</td> \n",
       "</tr>\n",
       "</table><br/><br/>Warnings:<br/>[1] Standard Errors assume that the covariance matrix of the errors is correctly specified."
      ],
      "text/plain": [
       "<class 'statsmodels.iolib.summary.Summary'>\n",
       "\"\"\"\n",
       "                            OLS Regression Results                            \n",
       "==============================================================================\n",
       "Dep. Variable:                      y   R-squared:                       0.654\n",
       "Model:                            OLS   Adj. R-squared:                  0.647\n",
       "Method:                 Least Squares   F-statistic:                     94.40\n",
       "Date:                Fri, 03 Aug 2018   Prob (F-statistic):          2.20e-108\n",
       "Time:                        13:51:38   Log-Likelihood:                -184.70\n",
       "No. Observations:                 511   AIC:                             391.4\n",
       "Df Residuals:                     500   BIC:                             438.0\n",
       "Df Model:                          10                                         \n",
       "Covariance Type:            nonrobust                                         \n",
       "==============================================================================\n",
       "                 coef    std err          t      P>|t|      [0.025      0.975]\n",
       "------------------------------------------------------------------------------\n",
       "const          7.6112      0.110     69.224      0.000       7.395       7.827\n",
       "season         0.1286      0.026      4.865      0.000       0.077       0.180\n",
       "yr             0.4818      0.031     15.339      0.000       0.420       0.543\n",
       "mnth          -0.0069      0.008     -0.834      0.405      -0.023       0.009\n",
       "holiday       -0.1800      0.099     -1.815      0.070      -0.375       0.015\n",
       "weekday        0.0133      0.008      1.670      0.095      -0.002       0.029\n",
       "workingday     0.0577      0.035      1.655      0.099      -0.011       0.126\n",
       "weathersit    -0.2331      0.037     -6.228      0.000      -0.307      -0.160\n",
       "temp           1.5244      0.094     16.269      0.000       1.340       1.708\n",
       "hum           -0.2495      0.149     -1.677      0.094      -0.542       0.043\n",
       "windspeed     -1.0399      0.218     -4.760      0.000      -1.469      -0.611\n",
       "==============================================================================\n",
       "Omnibus:                      654.553   Durbin-Watson:                   2.039\n",
       "Prob(Omnibus):                  0.000   Jarque-Bera (JB):           128684.713\n",
       "Skew:                          -6.061   Prob(JB):                         0.00\n",
       "Kurtosis:                      79.792   Cond. No.                         131.\n",
       "==============================================================================\n",
       "\n",
       "Warnings:\n",
       "[1] Standard Errors assume that the covariance matrix of the errors is correctly specified.\n",
       "\"\"\""
      ]
     },
     "execution_count": 22,
     "metadata": {},
     "output_type": "execute_result"
    }
   ],
   "source": [
    "model.summary()"
   ]
  },
  {
   "cell_type": "code",
   "execution_count": 23,
   "metadata": {},
   "outputs": [
    {
     "data": {
      "text/plain": [
       "LinearRegression(copy_X=True, fit_intercept=True, n_jobs=1, normalize=False)"
      ]
     },
     "execution_count": 23,
     "metadata": {},
     "output_type": "execute_result"
    }
   ],
   "source": [
    "# Initialize logistic regression model\n",
    "lModel = LinearRegression()\n",
    "lModel.fit(X = training_set,y = np.log(train_taget))"
   ]
  },
  {
   "cell_type": "code",
   "execution_count": 24,
   "metadata": {},
   "outputs": [],
   "source": [
    "#predicting using linear regression\n",
    "lmPredictions = lModel.predict(X=test_set)"
   ]
  },
  {
   "cell_type": "code",
   "execution_count": 25,
   "metadata": {},
   "outputs": [],
   "source": [
    "x=pd.DataFrame(np.exp(lmPredictions))"
   ]
  },
  {
   "cell_type": "code",
   "execution_count": 26,
   "metadata": {},
   "outputs": [
    {
     "data": {
      "text/html": [
       "<div>\n",
       "<style scoped>\n",
       "    .dataframe tbody tr th:only-of-type {\n",
       "        vertical-align: middle;\n",
       "    }\n",
       "\n",
       "    .dataframe tbody tr th {\n",
       "        vertical-align: top;\n",
       "    }\n",
       "\n",
       "    .dataframe thead th {\n",
       "        text-align: right;\n",
       "    }\n",
       "</style>\n",
       "<table border=\"1\" class=\"dataframe\">\n",
       "  <thead>\n",
       "    <tr style=\"text-align: right;\">\n",
       "      <th></th>\n",
       "      <th>0</th>\n",
       "    </tr>\n",
       "  </thead>\n",
       "  <tbody>\n",
       "    <tr>\n",
       "      <th>count</th>\n",
       "      <td>220.000000</td>\n",
       "    </tr>\n",
       "    <tr>\n",
       "      <th>mean</th>\n",
       "      <td>4438.291596</td>\n",
       "    </tr>\n",
       "    <tr>\n",
       "      <th>std</th>\n",
       "      <td>2120.623071</td>\n",
       "    </tr>\n",
       "    <tr>\n",
       "      <th>min</th>\n",
       "      <td>1034.553984</td>\n",
       "    </tr>\n",
       "    <tr>\n",
       "      <th>25%</th>\n",
       "      <td>2730.336107</td>\n",
       "    </tr>\n",
       "    <tr>\n",
       "      <th>50%</th>\n",
       "      <td>4096.304410</td>\n",
       "    </tr>\n",
       "    <tr>\n",
       "      <th>75%</th>\n",
       "      <td>5708.079487</td>\n",
       "    </tr>\n",
       "    <tr>\n",
       "      <th>max</th>\n",
       "      <td>11000.217123</td>\n",
       "    </tr>\n",
       "  </tbody>\n",
       "</table>\n",
       "</div>"
      ],
      "text/plain": [
       "                  0\n",
       "count    220.000000\n",
       "mean    4438.291596\n",
       "std     2120.623071\n",
       "min     1034.553984\n",
       "25%     2730.336107\n",
       "50%     4096.304410\n",
       "75%     5708.079487\n",
       "max    11000.217123"
      ]
     },
     "execution_count": 26,
     "metadata": {},
     "output_type": "execute_result"
    }
   ],
   "source": [
    "x.describe()"
   ]
  },
  {
   "cell_type": "code",
   "execution_count": 27,
   "metadata": {},
   "outputs": [
    {
     "name": "stdout",
     "output_type": "stream",
     "text": [
      "Mean Absolute Error: 899.5 degrees.\n"
     ]
    }
   ],
   "source": [
    "lm_errors = abs(np.exp(lmPredictions) - test_target)\n",
    "# Print out the mean absolute error (mae)\n",
    "print('Mean Absolute Error:', round(np.mean(lm_errors), 2), 'degrees.')"
   ]
  },
  {
   "cell_type": "code",
   "execution_count": 28,
   "metadata": {},
   "outputs": [],
   "source": [
    "rmse = sqrt(mean_squared_error(test_target, np.exp(lmPredictions)))"
   ]
  },
  {
   "cell_type": "code",
   "execution_count": 29,
   "metadata": {},
   "outputs": [
    {
     "name": "stdout",
     "output_type": "stream",
     "text": [
      "RMSE for test set in linear regression is : 1222.1581373120364\n"
     ]
    }
   ],
   "source": [
    "print(\"RMSE for test set in linear regression is :\" , rmse)"
   ]
  },
  {
   "cell_type": "code",
   "execution_count": 30,
   "metadata": {},
   "outputs": [
    {
     "data": {
      "text/plain": [
       "Text(0,0.5,'Predictions')"
      ]
     },
     "execution_count": 30,
     "metadata": {},
     "output_type": "execute_result"
    },
    {
     "data": {
      "image/png": "[encoded data removed]",
      "text/plain": [
       "<Figure size 432x288 with 1 Axes>"
      ]
     },
     "metadata": {},
     "output_type": "display_data"
    }
   ],
   "source": [
    "## The line / model\n",
    "plt.scatter(test_target, np.exp(lmPredictions))\n",
    "plt.xlabel(\"True Values\")\n",
    "plt.ylabel(\"Predictions\")"
   ]
  },
  {
   "cell_type": "markdown",
   "metadata": {},
   "source": [
    "## Model2 Random forest"
   ]
  },
  {
   "cell_type": "code",
   "execution_count": 31,
   "metadata": {},
   "outputs": [],
   "source": [
    "rf = RandomForestRegressor(random_state=12345)"
   ]
  },
  {
   "cell_type": "code",
   "execution_count": 32,
   "metadata": {},
   "outputs": [
    {
     "data": {
      "text/plain": [
       "RandomForestRegressor(bootstrap=True, criterion='mse', max_depth=None,\n",
       "           max_features='auto', max_leaf_nodes=None,\n",
       "           min_impurity_decrease=0.0, min_impurity_split=None,\n",
       "           min_samples_leaf=1, min_samples_split=2,\n",
       "           min_weight_fraction_leaf=0.0, n_estimators=10, n_jobs=1,\n",
       "           oob_score=False, random_state=12345, verbose=0,\n",
       "           warm_start=False)"
      ]
     },
     "execution_count": 32,
     "metadata": {},
     "output_type": "execute_result"
    }
   ],
   "source": [
    "rf"
   ]
  },
  {
   "cell_type": "code",
   "execution_count": 33,
   "metadata": {},
   "outputs": [
    {
     "name": "stdout",
     "output_type": "stream",
     "text": [
      "Best Parameters using random search: \n",
      " {'n_estimators': 300, 'max_features': 'log2', 'max_depth': 8, 'bootstrap': False}\n",
      "Time taken in random search:  105.77\n"
     ]
    }
   ],
   "source": [
    "np.random.seed(12)\n",
    "start = time.time()\n",
    "\n",
    "# selecting best max_depth, maximum features, split criterion and number of trees\n",
    "param_dist = {'max_depth': [2,4,6,8,10],\n",
    "              'bootstrap': [True, False],\n",
    "              'max_features': ['auto', 'sqrt', 'log2',None],\n",
    "              \"n_estimators\" : [100 ,200 ,300 ,400 ,500]\n",
    "             }\n",
    "cv_randomForest = RandomizedSearchCV(rf, cv = 10,\n",
    "                     param_distributions = param_dist, \n",
    "                     n_iter = 10)\n",
    "\n",
    "cv_randomForest.fit(training_set, train_taget)\n",
    "print('Best Parameters using random search: \\n', \n",
    "      cv_randomForest.best_params_)\n",
    "end = time.time()\n",
    "print('Time taken in random search: {0: .2f}'.format(end - start))"
   ]
  },
  {
   "cell_type": "code",
   "execution_count": 34,
   "metadata": {},
   "outputs": [
    {
     "data": {
      "text/plain": [
       "RandomForestRegressor(bootstrap=True, criterion='mse', max_depth=8,\n",
       "           max_features='log2', max_leaf_nodes=None,\n",
       "           min_impurity_decrease=0.0, min_impurity_split=None,\n",
       "           min_samples_leaf=1, min_samples_split=2,\n",
       "           min_weight_fraction_leaf=0.0, n_estimators=300, n_jobs=1,\n",
       "           oob_score=False, random_state=12345, verbose=0,\n",
       "           warm_start=False)"
      ]
     },
     "execution_count": 34,
     "metadata": {},
     "output_type": "execute_result"
    }
   ],
   "source": [
    "# setting parameters\n",
    "\n",
    "# Set best parameters given by random search # Set be \n",
    "rf.set_params( max_features = 'log2',\n",
    "               max_depth =8 ,\n",
    "               n_estimators = 300\n",
    "                )"
   ]
  },
  {
   "cell_type": "code",
   "execution_count": 35,
   "metadata": {},
   "outputs": [
    {
     "data": {
      "text/plain": [
       "RandomForestRegressor(bootstrap=True, criterion='mse', max_depth=8,\n",
       "           max_features='log2', max_leaf_nodes=None,\n",
       "           min_impurity_decrease=0.0, min_impurity_split=None,\n",
       "           min_samples_leaf=1, min_samples_split=2,\n",
       "           min_weight_fraction_leaf=0.0, n_estimators=300, n_jobs=1,\n",
       "           oob_score=False, random_state=12345, verbose=0,\n",
       "           warm_start=False)"
      ]
     },
     "execution_count": 35,
     "metadata": {},
     "output_type": "execute_result"
    }
   ],
   "source": [
    "rf.fit(training_set, train_taget)"
   ]
  },
  {
   "cell_type": "code",
   "execution_count": 36,
   "metadata": {},
   "outputs": [
    {
     "name": "stdout",
     "output_type": "stream",
     "text": [
      "Mean Absolute Error: 495.33 degrees.\n"
     ]
    }
   ],
   "source": [
    "# Use the forest's predict method on the test data\n",
    "rfPredictions = rf.predict(test_set)\n",
    "# Calculate the absolute errors\n",
    "rf_errors = abs(rfPredictions - test_target)\n",
    "# Print out the mean absolute error (mae)\n",
    "print('Mean Absolute Error:', round(np.mean(rf_errors), 2), 'degrees.')"
   ]
  },
  {
   "cell_type": "code",
   "execution_count": 37,
   "metadata": {},
   "outputs": [],
   "source": [
    "rmse_rf = sqrt(mean_squared_error(test_target, rfPredictions))"
   ]
  },
  {
   "cell_type": "code",
   "execution_count": 38,
   "metadata": {},
   "outputs": [
    {
     "name": "stdout",
     "output_type": "stream",
     "text": [
      "RMSE for test set in random forest regressor  is : 649.7450571768651\n"
     ]
    }
   ],
   "source": [
    "print(\"RMSE for test set in random forest regressor  is :\" , rmse_rf)"
   ]
  },
  {
   "cell_type": "markdown",
   "metadata": {},
   "source": [
    "### Variable importance for random forest"
   ]
  },
  {
   "cell_type": "code",
   "execution_count": 39,
   "metadata": {},
   "outputs": [
    {
     "data": {
      "text/plain": [
       "<matplotlib.axes._subplots.AxesSubplot at 0x1f6411724e0>"
      ]
     },
     "execution_count": 39,
     "metadata": {},
     "output_type": "execute_result"
    },
    {
     "data": {
      "image/png": "[encoded data removed]",
      "text/plain": [
       "<Figure size 432x288 with 1 Axes>"
      ]
     },
     "metadata": {},
     "output_type": "display_data"
    }
   ],
   "source": [
    "feature_importance =  pd.Series(rf.feature_importances_, index=training_set.columns)\n",
    "feature_importance.plot(kind='barh')"
   ]
  },
  {
   "cell_type": "code",
   "execution_count": 41,
   "metadata": {},
   "outputs": [],
   "source": [
    "#model input and output\n",
    "pd.DataFrame(test_set).to_csv('InputLinearRegressionRandomForestPyhon.csv', index = False)\n",
    "pd.DataFrame(np.exp(lmPredictions), columns=['predictions']).to_csv('outputLinearRegressionPython.csv')\n",
    "pd.DataFrame(rfPredictions, columns=['predictions']).to_csv('outputRandomForestPython.csv')\n",
    "\n"
   ]
  }
 ],
 "metadata": {
  "kernelspec": {
   "display_name": "Python 3",
   "language": "python",
   "name": "python3"
  },
  "language_info": {
   "codemirror_mode": {
    "name": "ipython",
    "version": 3
   },
   "file_extension": ".py",
   "mimetype": "text/x-python",
   "name": "python",
   "nbconvert_exporter": "python",
   "pygments_lexer": "ipython3",
   "version": "3.6.5"
  }
 },
 "nbformat": 4,
 "nbformat_minor": 2
}
